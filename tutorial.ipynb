{
 "cells": [
  {
   "cell_type": "markdown",
   "metadata": {},
   "source": [
    "# Ecological Tutorial"
   ]
  },
  {
   "cell_type": "markdown",
   "metadata": {},
   "source": [
    "## Getting Started"
   ]
  },
  {
   "cell_type": "markdown",
   "metadata": {},
   "source": [
    "Before we start to set some environment variables, note than in a real application this would be set outside of your application."
   ]
  },
  {
   "cell_type": "code",
   "execution_count": 3,
   "metadata": {
    "collapsed": true
   },
   "outputs": [],
   "source": [
    "import os\n",
    "os.environ[\"INTEGER_LIST\"] = \"[1, 2, 3, 4, 5]\"\n",
    "os.environ[\"INTEGER\"] = \"42\"\n",
    "os.environ[\"BOOLEAN\"] = \"False\"\n",
    "os.environ[\"OVERRIDE_DEFAULT\"] = \"This is NOT the default value\""
   ]
  },
  {
   "cell_type": "markdown",
   "metadata": {},
   "source": [
    "Now let's create a configuration class:"
   ]
  },
  {
   "cell_type": "code",
   "execution_count": 4,
   "metadata": {},
   "outputs": [],
   "source": [
    "import ecological\n",
    "\n",
    "class Configuration(ecological.AutoConfig):\n",
    "    integer_list: list\n",
    "    integer: int\n",
    "    boolean: bool\n",
    "    with_default: str = \"This is the default value\"\n",
    "    override_default: str = \"This is the default value\""
   ]
  },
  {
   "cell_type": "markdown",
   "metadata": {},
   "source": [
    "Easy right?\n",
    "Now that we created the configuration class. Let's look at what's inside:"
   ]
  },
  {
   "cell_type": "code",
   "execution_count": 5,
   "metadata": {},
   "outputs": [
    {
     "name": "stdout",
     "output_type": "stream",
     "text": [
      "[1, 2, 3, 4, 5]\n",
      "<class 'list'>\n"
     ]
    }
   ],
   "source": [
    "print(repr(Configuration.integer_list))\n",
    "print(type(Configuration.integer_list))"
   ]
  },
  {
   "cell_type": "code",
   "execution_count": 6,
   "metadata": {},
   "outputs": [
    {
     "name": "stdout",
     "output_type": "stream",
     "text": [
      "42\n",
      "<class 'int'>\n"
     ]
    }
   ],
   "source": [
    "print(repr(Configuration.integer))\n",
    "print(type(Configuration.integer))"
   ]
  },
  {
   "cell_type": "code",
   "execution_count": 7,
   "metadata": {},
   "outputs": [
    {
     "name": "stdout",
     "output_type": "stream",
     "text": [
      "False\n",
      "<class 'bool'>\n"
     ]
    }
   ],
   "source": [
    "print(repr(Configuration.boolean))\n",
    "print(type(Configuration.boolean))"
   ]
  },
  {
   "cell_type": "code",
   "execution_count": 8,
   "metadata": {},
   "outputs": [
    {
     "name": "stdout",
     "output_type": "stream",
     "text": [
      "'This is the default value'\n",
      "<class 'str'>\n"
     ]
    }
   ],
   "source": [
    "print(repr(Configuration.with_default))\n",
    "print(type(Configuration.with_default))"
   ]
  },
  {
   "cell_type": "code",
   "execution_count": 9,
   "metadata": {},
   "outputs": [
    {
     "name": "stdout",
     "output_type": "stream",
     "text": [
      "'This is NOT the default value'\n",
      "<class 'str'>\n"
     ]
    }
   ],
   "source": [
    "print(repr(Configuration.override_default))\n",
    "print(type(Configuration.override_default))"
   ]
  },
  {
   "cell_type": "markdown",
   "metadata": {},
   "source": [
    "As you can see all the values where cast from `str` to the expected types, and if a default value is set it will be used if the corresponding environment variable doesn't exist."
   ]
  }
 ],
 "metadata": {
  "kernelspec": {
   "display_name": "Python 3",
   "language": "python",
   "name": "python3"
  },
  "language_info": {
   "codemirror_mode": {
    "name": "ipython",
    "version": 3
   },
   "file_extension": ".py",
   "mimetype": "text/x-python",
   "name": "python",
   "nbconvert_exporter": "python",
   "pygments_lexer": "ipython3",
   "version": "3.6.1"
  }
 },
 "nbformat": 4,
 "nbformat_minor": 2
}
